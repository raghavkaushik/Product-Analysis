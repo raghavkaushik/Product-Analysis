{
 "cells": [
  {
   "cell_type": "code",
   "execution_count": 1,
   "metadata": {},
   "outputs": [],
   "source": [
    "import pandas as pd\n",
    "import numpy as np\n",
    "import matplotlib.pyplot as plt\n",
    "import os"
   ]
  },
  {
   "cell_type": "code",
   "execution_count": 2,
   "metadata": {},
   "outputs": [],
   "source": [
    "jan=pd.read_csv('C:\\\\Users\\\\rkaushik25.EAD\\\\Desktop\\\\Analysis1\\\\SalesAnalysis\\\\Sales_Data\\\\Sales_January_2019.csv')"
   ]
  },
  {
   "cell_type": "code",
   "execution_count": 3,
   "metadata": {},
   "outputs": [],
   "source": [
    "files=[file for file in os.listdir('C:\\\\Users\\\\rkaushik25.EAD\\\\Desktop\\\\Analysis1\\\\SalesAnalysis\\\\Sales_Data')]"
   ]
  },
  {
   "cell_type": "code",
   "execution_count": 4,
   "metadata": {},
   "outputs": [],
   "source": [
    "#combining all csv files into one to make a single file\n",
    "allmonth=pd.DataFrame()\n",
    "\n",
    "for file in files:\n",
    "    df=pd.read_csv('C:\\\\Users\\\\rkaushik25.EAD\\\\Desktop\\\\Analysis1\\\\SalesAnalysis\\\\Sales_Data\\\\'+file)\n",
    "    allmonth=pd.concat([allmonth,df])"
   ]
  },
  {
   "cell_type": "code",
   "execution_count": 5,
   "metadata": {},
   "outputs": [],
   "source": [
    "#to make additional columns for information\n",
    "# adding a month column\n",
    "allmonth['Month']=allmonth['Order Date'].str[0:2]\n"
   ]
  },
  {
   "cell_type": "code",
   "execution_count": 6,
   "metadata": {},
   "outputs": [],
   "source": [
    "remove_nan=allmonth[allmonth.isna().any(axis=1)]"
   ]
  },
  {
   "cell_type": "code",
   "execution_count": 7,
   "metadata": {},
   "outputs": [
    {
     "data": {
      "text/html": [
       "<div>\n",
       "<style scoped>\n",
       "    .dataframe tbody tr th:only-of-type {\n",
       "        vertical-align: middle;\n",
       "    }\n",
       "\n",
       "    .dataframe tbody tr th {\n",
       "        vertical-align: top;\n",
       "    }\n",
       "\n",
       "    .dataframe thead th {\n",
       "        text-align: right;\n",
       "    }\n",
       "</style>\n",
       "<table border=\"1\" class=\"dataframe\">\n",
       "  <thead>\n",
       "    <tr style=\"text-align: right;\">\n",
       "      <th></th>\n",
       "      <th>Order ID</th>\n",
       "      <th>Product</th>\n",
       "      <th>Quantity Ordered</th>\n",
       "      <th>Price Each</th>\n",
       "      <th>Order Date</th>\n",
       "      <th>Purchase Address</th>\n",
       "      <th>Month</th>\n",
       "    </tr>\n",
       "  </thead>\n",
       "  <tbody>\n",
       "    <tr>\n",
       "      <td>1</td>\n",
       "      <td>NaN</td>\n",
       "      <td>NaN</td>\n",
       "      <td>NaN</td>\n",
       "      <td>NaN</td>\n",
       "      <td>NaN</td>\n",
       "      <td>NaN</td>\n",
       "      <td>NaN</td>\n",
       "    </tr>\n",
       "    <tr>\n",
       "      <td>356</td>\n",
       "      <td>NaN</td>\n",
       "      <td>NaN</td>\n",
       "      <td>NaN</td>\n",
       "      <td>NaN</td>\n",
       "      <td>NaN</td>\n",
       "      <td>NaN</td>\n",
       "      <td>NaN</td>\n",
       "    </tr>\n",
       "    <tr>\n",
       "      <td>735</td>\n",
       "      <td>NaN</td>\n",
       "      <td>NaN</td>\n",
       "      <td>NaN</td>\n",
       "      <td>NaN</td>\n",
       "      <td>NaN</td>\n",
       "      <td>NaN</td>\n",
       "      <td>NaN</td>\n",
       "    </tr>\n",
       "    <tr>\n",
       "      <td>1433</td>\n",
       "      <td>NaN</td>\n",
       "      <td>NaN</td>\n",
       "      <td>NaN</td>\n",
       "      <td>NaN</td>\n",
       "      <td>NaN</td>\n",
       "      <td>NaN</td>\n",
       "      <td>NaN</td>\n",
       "    </tr>\n",
       "    <tr>\n",
       "      <td>1553</td>\n",
       "      <td>NaN</td>\n",
       "      <td>NaN</td>\n",
       "      <td>NaN</td>\n",
       "      <td>NaN</td>\n",
       "      <td>NaN</td>\n",
       "      <td>NaN</td>\n",
       "      <td>NaN</td>\n",
       "    </tr>\n",
       "  </tbody>\n",
       "</table>\n",
       "</div>"
      ],
      "text/plain": [
       "     Order ID Product Quantity Ordered Price Each Order Date Purchase Address  \\\n",
       "1         NaN     NaN              NaN        NaN        NaN              NaN   \n",
       "356       NaN     NaN              NaN        NaN        NaN              NaN   \n",
       "735       NaN     NaN              NaN        NaN        NaN              NaN   \n",
       "1433      NaN     NaN              NaN        NaN        NaN              NaN   \n",
       "1553      NaN     NaN              NaN        NaN        NaN              NaN   \n",
       "\n",
       "     Month  \n",
       "1      NaN  \n",
       "356    NaN  \n",
       "735    NaN  \n",
       "1433   NaN  \n",
       "1553   NaN  "
      ]
     },
     "execution_count": 7,
     "metadata": {},
     "output_type": "execute_result"
    }
   ],
   "source": [
    "remove_nan.head()"
   ]
  },
  {
   "cell_type": "code",
   "execution_count": 8,
   "metadata": {},
   "outputs": [],
   "source": [
    "#removing Nan from the data, any- for any presence and all for all in row \n",
    "allmonth=allmonth.dropna(how='any')"
   ]
  },
  {
   "cell_type": "code",
   "execution_count": 9,
   "metadata": {},
   "outputs": [],
   "source": [
    "allmonth=allmonth[allmonth['Month']!='Or']"
   ]
  },
  {
   "cell_type": "code",
   "execution_count": 10,
   "metadata": {},
   "outputs": [],
   "source": [
    "allmonth['Month']=allmonth['Month'].astype('int32')\n",
    "allmonth['Quantity Ordered']=allmonth['Quantity Ordered'].astype('float')\n",
    "allmonth['Price Each']=allmonth['Price Each'].astype('float')\n"
   ]
  },
  {
   "cell_type": "code",
   "execution_count": 11,
   "metadata": {},
   "outputs": [],
   "source": [
    "allmonth['sales']=allmonth['Quantity Ordered'] * allmonth['Price Each']"
   ]
  },
  {
   "cell_type": "code",
   "execution_count": 12,
   "metadata": {},
   "outputs": [
    {
     "name": "stdout",
     "output_type": "stream",
     "text": [
      "      Order ID                     Product  Quantity Ordered  Price Each  \\\n",
      "0       176558        USB-C Charging Cable               2.0       11.95   \n",
      "2       176559  Bose SoundSport Headphones               1.0       99.99   \n",
      "3       176560                Google Phone               1.0      600.00   \n",
      "4       176560            Wired Headphones               1.0       11.99   \n",
      "5       176561            Wired Headphones               1.0       11.99   \n",
      "...        ...                         ...               ...         ...   \n",
      "11681   259353      AAA Batteries (4-pack)               3.0        2.99   \n",
      "11682   259354                      iPhone               1.0      700.00   \n",
      "11683   259355                      iPhone               1.0      700.00   \n",
      "11684   259356      34in Ultrawide Monitor               1.0      379.99   \n",
      "11685   259357        USB-C Charging Cable               1.0       11.95   \n",
      "\n",
      "           Order Date                         Purchase Address  Month   sales  \n",
      "0      04/19/19 08:46             917 1st St, Dallas, TX 75001      4   23.90  \n",
      "2      04/07/19 22:30        682 Chestnut St, Boston, MA 02215      4   99.99  \n",
      "3      04/12/19 14:38     669 Spruce St, Los Angeles, CA 90001      4  600.00  \n",
      "4      04/12/19 14:38     669 Spruce St, Los Angeles, CA 90001      4   11.99  \n",
      "5      04/30/19 09:27        333 8th St, Los Angeles, CA 90001      4   11.99  \n",
      "...               ...                                      ...    ...     ...  \n",
      "11681  09/17/19 20:56   840 Highland St, Los Angeles, CA 90001      9    8.97  \n",
      "11682  09/01/19 16:00  216 Dogwood St, San Francisco, CA 94016      9  700.00  \n",
      "11683  09/23/19 07:39     220 12th St, San Francisco, CA 94016      9  700.00  \n",
      "11684  09/19/19 17:30   511 Forest St, San Francisco, CA 94016      9  379.99  \n",
      "11685  09/30/19 00:18   250 Meadow St, San Francisco, CA 94016      9   11.95  \n",
      "\n",
      "[185950 rows x 8 columns]\n"
     ]
    }
   ],
   "source": [
    "print(allmonth)"
   ]
  },
  {
   "cell_type": "code",
   "execution_count": 13,
   "metadata": {},
   "outputs": [],
   "source": [
    "temp=allmonth.groupby('Month').sum()"
   ]
  },
  {
   "cell_type": "code",
   "execution_count": 14,
   "metadata": {},
   "outputs": [
    {
     "name": "stdout",
     "output_type": "stream",
     "text": [
      "       Quantity Ordered    Price Each         sales\n",
      "Month                                              \n",
      "1               10903.0  1.811768e+06  1.822257e+06\n",
      "2               13449.0  2.188885e+06  2.202022e+06\n",
      "3               17005.0  2.791208e+06  2.807100e+06\n",
      "4               20558.0  3.367671e+06  3.390670e+06\n",
      "5               18667.0  3.135125e+06  3.152607e+06\n",
      "6               15253.0  2.562026e+06  2.577802e+06\n",
      "7               16072.0  2.632540e+06  2.647776e+06\n",
      "8               13448.0  2.230345e+06  2.244468e+06\n",
      "9               13109.0  2.084992e+06  2.097560e+06\n",
      "10              22703.0  3.715555e+06  3.736727e+06\n",
      "11              19798.0  3.180601e+06  3.199603e+06\n",
      "12              28114.0  4.588415e+06  4.613443e+06\n"
     ]
    }
   ],
   "source": [
    "print(temp)"
   ]
  },
  {
   "cell_type": "code",
   "execution_count": 15,
   "metadata": {},
   "outputs": [
    {
     "data": {
      "image/png": "[encoded data removed]",
      "text/plain": [
       "<Figure size 432x288 with 1 Axes>"
      ]
     },
     "metadata": {
      "needs_background": "light"
     },
     "output_type": "display_data"
    }
   ],
   "source": [
    "months=range(1,13)\n",
    "plt.bar(months,temp['sales'])\n",
    "plt.xticks(months)\n",
    "plt.ylabel('Sales in USD')\n",
    "plt.xlabel('Months')\n",
    "plt.show()"
   ]
  },
  {
   "cell_type": "code",
   "execution_count": 16,
   "metadata": {},
   "outputs": [],
   "source": [
    "#getting citys from address columns\n",
    "def getcity(x):\n",
    "    return x.split(',')[1]\n",
    "def getstate(x):\n",
    "    return x.split(',')[2].split(' ')[1]\n",
    "allmonth['City']=allmonth['Purchase Address'].apply(lambda x:getcity(x)+' '+getstate(x))"
   ]
  },
  {
   "cell_type": "code",
   "execution_count": 17,
   "metadata": {},
   "outputs": [
    {
     "name": "stdout",
     "output_type": "stream",
     "text": [
      "      Order ID                     Product  Quantity Ordered  Price Each  \\\n",
      "0       176558        USB-C Charging Cable               2.0       11.95   \n",
      "2       176559  Bose SoundSport Headphones               1.0       99.99   \n",
      "3       176560                Google Phone               1.0      600.00   \n",
      "4       176560            Wired Headphones               1.0       11.99   \n",
      "5       176561            Wired Headphones               1.0       11.99   \n",
      "...        ...                         ...               ...         ...   \n",
      "11681   259353      AAA Batteries (4-pack)               3.0        2.99   \n",
      "11682   259354                      iPhone               1.0      700.00   \n",
      "11683   259355                      iPhone               1.0      700.00   \n",
      "11684   259356      34in Ultrawide Monitor               1.0      379.99   \n",
      "11685   259357        USB-C Charging Cable               1.0       11.95   \n",
      "\n",
      "           Order Date                         Purchase Address  Month   sales  \\\n",
      "0      04/19/19 08:46             917 1st St, Dallas, TX 75001      4   23.90   \n",
      "2      04/07/19 22:30        682 Chestnut St, Boston, MA 02215      4   99.99   \n",
      "3      04/12/19 14:38     669 Spruce St, Los Angeles, CA 90001      4  600.00   \n",
      "4      04/12/19 14:38     669 Spruce St, Los Angeles, CA 90001      4   11.99   \n",
      "5      04/30/19 09:27        333 8th St, Los Angeles, CA 90001      4   11.99   \n",
      "...               ...                                      ...    ...     ...   \n",
      "11681  09/17/19 20:56   840 Highland St, Los Angeles, CA 90001      9    8.97   \n",
      "11682  09/01/19 16:00  216 Dogwood St, San Francisco, CA 94016      9  700.00   \n",
      "11683  09/23/19 07:39     220 12th St, San Francisco, CA 94016      9  700.00   \n",
      "11684  09/19/19 17:30   511 Forest St, San Francisco, CA 94016      9  379.99   \n",
      "11685  09/30/19 00:18   250 Meadow St, San Francisco, CA 94016      9   11.95   \n",
      "\n",
      "                    City  \n",
      "0              Dallas TX  \n",
      "2              Boston MA  \n",
      "3         Los Angeles CA  \n",
      "4         Los Angeles CA  \n",
      "5         Los Angeles CA  \n",
      "...                  ...  \n",
      "11681     Los Angeles CA  \n",
      "11682   San Francisco CA  \n",
      "11683   San Francisco CA  \n",
      "11684   San Francisco CA  \n",
      "11685   San Francisco CA  \n",
      "\n",
      "[185950 rows x 9 columns]\n"
     ]
    }
   ],
   "source": [
    "print(allmonth)"
   ]
  },
  {
   "cell_type": "code",
   "execution_count": 18,
   "metadata": {},
   "outputs": [],
   "source": [
    "temp1=allmonth.groupby('City').sum()"
   ]
  },
  {
   "cell_type": "code",
   "execution_count": 19,
   "metadata": {},
   "outputs": [
    {
     "name": "stdout",
     "output_type": "stream",
     "text": [
      "                   Quantity Ordered    Price Each   Month         sales\n",
      "City                                                                   \n",
      " Atlanta GA                 16602.0  2.779908e+06  104794  2.795499e+06\n",
      " Austin TX                  11153.0  1.809874e+06   69829  1.819582e+06\n",
      " Boston MA                  22528.0  3.637410e+06  141112  3.661642e+06\n",
      " Dallas TX                  16730.0  2.752628e+06  104620  2.767975e+06\n",
      " Los Angeles CA             33289.0  5.421435e+06  208325  5.452571e+06\n",
      " New York City NY           27932.0  4.635371e+06  175741  4.664317e+06\n",
      " Portland ME                 2750.0  4.471893e+05   17144  4.497583e+05\n",
      " Portland OR                11303.0  1.860558e+06   70621  1.870732e+06\n",
      " San Francisco CA           50239.0  8.211462e+06  315520  8.262204e+06\n",
      " Seattle WA                 16553.0  2.733296e+06  104941  2.747755e+06\n"
     ]
    }
   ],
   "source": [
    "print(temp1)"
   ]
  },
  {
   "cell_type": "code",
   "execution_count": 20,
   "metadata": {},
   "outputs": [
    {
     "data": {
      "image/png": "[encoded data removed]",
      "text/plain": [
       "<Figure size 432x288 with 1 Axes>"
      ]
     },
     "metadata": {
      "needs_background": "light"
     },
     "output_type": "display_data"
    }
   ],
   "source": [
    "cities=[city for city,df in temp1.groupby('City')]\n",
    "\n",
    "plt.bar(cities,temp1['sales'])\n",
    "plt.xticks(cities,rotation='vertical')\n",
    "plt.show()"
   ]
  },
  {
   "cell_type": "code",
   "execution_count": 21,
   "metadata": {},
   "outputs": [],
   "source": [
    "allmonth['Order Date']=pd.to_datetime(allmonth['Order Date'])"
   ]
  },
  {
   "cell_type": "code",
   "execution_count": 22,
   "metadata": {},
   "outputs": [],
   "source": [
    "allmonth['Hour']=allmonth['Order Date'].dt.hour"
   ]
  },
  {
   "cell_type": "code",
   "execution_count": 23,
   "metadata": {},
   "outputs": [],
   "source": [
    "allmonth['Minute']=allmonth['Order Date'].dt.minute"
   ]
  },
  {
   "cell_type": "code",
   "execution_count": 24,
   "metadata": {},
   "outputs": [
    {
     "name": "stdout",
     "output_type": "stream",
     "text": [
      "      Order ID                     Product  Quantity Ordered  Price Each  \\\n",
      "0       176558        USB-C Charging Cable               2.0       11.95   \n",
      "2       176559  Bose SoundSport Headphones               1.0       99.99   \n",
      "3       176560                Google Phone               1.0      600.00   \n",
      "4       176560            Wired Headphones               1.0       11.99   \n",
      "5       176561            Wired Headphones               1.0       11.99   \n",
      "...        ...                         ...               ...         ...   \n",
      "11681   259353      AAA Batteries (4-pack)               3.0        2.99   \n",
      "11682   259354                      iPhone               1.0      700.00   \n",
      "11683   259355                      iPhone               1.0      700.00   \n",
      "11684   259356      34in Ultrawide Monitor               1.0      379.99   \n",
      "11685   259357        USB-C Charging Cable               1.0       11.95   \n",
      "\n",
      "               Order Date                         Purchase Address  Month  \\\n",
      "0     2019-04-19 08:46:00             917 1st St, Dallas, TX 75001      4   \n",
      "2     2019-04-07 22:30:00        682 Chestnut St, Boston, MA 02215      4   \n",
      "3     2019-04-12 14:38:00     669 Spruce St, Los Angeles, CA 90001      4   \n",
      "4     2019-04-12 14:38:00     669 Spruce St, Los Angeles, CA 90001      4   \n",
      "5     2019-04-30 09:27:00        333 8th St, Los Angeles, CA 90001      4   \n",
      "...                   ...                                      ...    ...   \n",
      "11681 2019-09-17 20:56:00   840 Highland St, Los Angeles, CA 90001      9   \n",
      "11682 2019-09-01 16:00:00  216 Dogwood St, San Francisco, CA 94016      9   \n",
      "11683 2019-09-23 07:39:00     220 12th St, San Francisco, CA 94016      9   \n",
      "11684 2019-09-19 17:30:00   511 Forest St, San Francisco, CA 94016      9   \n",
      "11685 2019-09-30 00:18:00   250 Meadow St, San Francisco, CA 94016      9   \n",
      "\n",
      "        sales               City  Hour  Minute  \n",
      "0       23.90          Dallas TX     8      46  \n",
      "2       99.99          Boston MA    22      30  \n",
      "3      600.00     Los Angeles CA    14      38  \n",
      "4       11.99     Los Angeles CA    14      38  \n",
      "5       11.99     Los Angeles CA     9      27  \n",
      "...       ...                ...   ...     ...  \n",
      "11681    8.97     Los Angeles CA    20      56  \n",
      "11682  700.00   San Francisco CA    16       0  \n",
      "11683  700.00   San Francisco CA     7      39  \n",
      "11684  379.99   San Francisco CA    17      30  \n",
      "11685   11.95   San Francisco CA     0      18  \n",
      "\n",
      "[185950 rows x 11 columns]\n"
     ]
    }
   ],
   "source": [
    "print(allmonth)"
   ]
  },
  {
   "cell_type": "code",
   "execution_count": 25,
   "metadata": {},
   "outputs": [
    {
     "data": {
      "image/png": "[encoded data removed]",
      "text/plain": [
       "<Figure size 432x288 with 1 Axes>"
      ]
     },
     "metadata": {
      "needs_background": "light"
     },
     "output_type": "display_data"
    }
   ],
   "source": [
    "hours=[hour for hour, df in allmonth.groupby('Hour')]\n",
    "plt.plot(hours,allmonth.groupby(['Hour']).count())\n",
    "plt.xticks(hours)\n",
    "plt.show()"
   ]
  },
  {
   "cell_type": "code",
   "execution_count": 26,
   "metadata": {},
   "outputs": [],
   "source": [
    "temp3=allmonth.groupby('Product').sum()"
   ]
  },
  {
   "cell_type": "code",
   "execution_count": 27,
   "metadata": {},
   "outputs": [
    {
     "name": "stdout",
     "output_type": "stream",
     "text": [
      "                            Quantity Ordered  Price Each   Month       sales  \\\n",
      "Product                                                                        \n",
      "20in Monitor                          4129.0   451068.99   29336   454148.71   \n",
      "27in 4K Gaming Monitor                6244.0  2429637.70   44440  2435097.56   \n",
      "27in FHD Monitor                      7550.0  1125974.93   52558  1132424.50   \n",
      "34in Ultrawide Monitor                6199.0  2348718.19   43304  2355558.01   \n",
      "AA Batteries (4-pack)                27635.0    79015.68  145558   106118.40   \n",
      "AAA Batteries (4-pack)               31017.0    61716.59  146370    92740.83   \n",
      "Apple Airpods Headphones             15661.0  2332350.00  109477  2349150.00   \n",
      "Bose SoundSport Headphones           13457.0  1332366.75   94113  1345565.43   \n",
      "Flatscreen TV                         4819.0  1440000.00   34224  1445700.00   \n",
      "Google Phone                          5532.0  3315000.00   38305  3319200.00   \n",
      "LG Dryer                               646.0   387600.00    4383   387600.00   \n",
      "LG Washing Machine                     666.0   399600.00    4523   399600.00   \n",
      "Lightning Charging Cable             23217.0   323787.10  153092   347094.15   \n",
      "Macbook Pro Laptop                    4728.0  8030800.00   33548  8037600.00   \n",
      "ThinkPad Laptop                       4130.0  4127958.72   28950  4129958.70   \n",
      "USB-C Charging Cable                 23975.0   261740.85  154819   286501.25   \n",
      "Vareebadd Phone                       2068.0   826000.00   14309   827200.00   \n",
      "Wired Headphones                     20557.0   226395.18  133397   246478.43   \n",
      "iPhone                                6849.0  4789400.00   47941  4794300.00   \n",
      "\n",
      "                              Hour  Minute  \n",
      "Product                                     \n",
      "20in Monitor                 58764  122252  \n",
      "27in 4K Gaming Monitor       90916  184331  \n",
      "27in FHD Monitor            107540  219948  \n",
      "34in Ultrawide Monitor       89076  183480  \n",
      "AA Batteries (4-pack)       298342  609039  \n",
      "AAA Batteries (4-pack)      297332  612113  \n",
      "Apple Airpods Headphones    223304  455570  \n",
      "Bose SoundSport Headphones  192445  392603  \n",
      "Flatscreen TV                68815  142789  \n",
      "Google Phone                 79479  162773  \n",
      "LG Dryer                      9326   19043  \n",
      "LG Washing Machine            9785   19462  \n",
      "Lightning Charging Cable    312529  634442  \n",
      "Macbook Pro Laptop           68261  137574  \n",
      "ThinkPad Laptop              59746  121508  \n",
      "USB-C Charging Cable        314645  647586  \n",
      "Vareebadd Phone              29472   61835  \n",
      "Wired Headphones            271720  554023  \n",
      "iPhone                       98657  201688  \n"
     ]
    }
   ],
   "source": [
    "print(temp3)"
   ]
  },
  {
   "cell_type": "code",
   "execution_count": 28,
   "metadata": {},
   "outputs": [
    {
     "data": {
      "image/png": "[encoded data removed]",
      "text/plain": [
       "<Figure size 432x288 with 2 Axes>"
      ]
     },
     "metadata": {
      "needs_background": "light"
     },
     "output_type": "display_data"
    }
   ],
   "source": [
    "#quantity of each item sold together\n",
    "prices=allmonth.groupby('Product').mean()['Price Each']\n",
    "ax1=plt.subplot()\n",
    "plt1 = plt.twinx()\n",
    "product=[product for product, df in allmonth.groupby('Product')]\n",
    "ax1.bar(product,temp3['Quantity Ordered'])\n",
    "plt1.plot(product,prices)\n",
    "ax1.set_xticklabels(product,rotation='vertical')\n",
    "\n",
    "plt.show()\n"
   ]
  },
  {
   "cell_type": "code",
   "execution_count": 29,
   "metadata": {},
   "outputs": [
    {
     "name": "stdout",
     "output_type": "stream",
     "text": [
      "      Order ID                     Product  Quantity Ordered  Price Each  \\\n",
      "0       176558        USB-C Charging Cable               2.0       11.95   \n",
      "2       176559  Bose SoundSport Headphones               1.0       99.99   \n",
      "3       176560                Google Phone               1.0      600.00   \n",
      "4       176560            Wired Headphones               1.0       11.99   \n",
      "5       176561            Wired Headphones               1.0       11.99   \n",
      "...        ...                         ...               ...         ...   \n",
      "11681   259353      AAA Batteries (4-pack)               3.0        2.99   \n",
      "11682   259354                      iPhone               1.0      700.00   \n",
      "11683   259355                      iPhone               1.0      700.00   \n",
      "11684   259356      34in Ultrawide Monitor               1.0      379.99   \n",
      "11685   259357        USB-C Charging Cable               1.0       11.95   \n",
      "\n",
      "               Order Date                         Purchase Address  Month  \\\n",
      "0     2019-04-19 08:46:00             917 1st St, Dallas, TX 75001      4   \n",
      "2     2019-04-07 22:30:00        682 Chestnut St, Boston, MA 02215      4   \n",
      "3     2019-04-12 14:38:00     669 Spruce St, Los Angeles, CA 90001      4   \n",
      "4     2019-04-12 14:38:00     669 Spruce St, Los Angeles, CA 90001      4   \n",
      "5     2019-04-30 09:27:00        333 8th St, Los Angeles, CA 90001      4   \n",
      "...                   ...                                      ...    ...   \n",
      "11681 2019-09-17 20:56:00   840 Highland St, Los Angeles, CA 90001      9   \n",
      "11682 2019-09-01 16:00:00  216 Dogwood St, San Francisco, CA 94016      9   \n",
      "11683 2019-09-23 07:39:00     220 12th St, San Francisco, CA 94016      9   \n",
      "11684 2019-09-19 17:30:00   511 Forest St, San Francisco, CA 94016      9   \n",
      "11685 2019-09-30 00:18:00   250 Meadow St, San Francisco, CA 94016      9   \n",
      "\n",
      "        sales               City  Hour  Minute  \n",
      "0       23.90          Dallas TX     8      46  \n",
      "2       99.99          Boston MA    22      30  \n",
      "3      600.00     Los Angeles CA    14      38  \n",
      "4       11.99     Los Angeles CA    14      38  \n",
      "5       11.99     Los Angeles CA     9      27  \n",
      "...       ...                ...   ...     ...  \n",
      "11681    8.97     Los Angeles CA    20      56  \n",
      "11682  700.00   San Francisco CA    16       0  \n",
      "11683  700.00   San Francisco CA     7      39  \n",
      "11684  379.99   San Francisco CA    17      30  \n",
      "11685   11.95   San Francisco CA     0      18  \n",
      "\n",
      "[185950 rows x 11 columns]\n"
     ]
    },
    {
     "name": "stderr",
     "output_type": "stream",
     "text": [
      "C:\\Users\\rkaushik25.EAD\\AppData\\Local\\Continuum\\anaconda3\\lib\\site-packages\\ipykernel_launcher.py:4: SettingWithCopyWarning: \n",
      "A value is trying to be set on a copy of a slice from a DataFrame.\n",
      "Try using .loc[row_indexer,col_indexer] = value instead\n",
      "\n",
      "See the caveats in the documentation: http://pandas.pydata.org/pandas-docs/stable/user_guide/indexing.html#returning-a-view-versus-a-copy\n",
      "  after removing the cwd from sys.path.\n"
     ]
    }
   ],
   "source": [
    "#to find the most selling combination of items\n",
    "df=allmonth[allmonth['Order ID'].duplicated(keep=False)]\n",
    "df['Grouped']=df.groupby('Order ID')['Product'].transform(lambda x: ','.join(x))\n"
   ]
  },
  {
   "cell_type": "code",
   "execution_count": 30,
   "metadata": {},
   "outputs": [],
   "source": [
    "temp4=df.groupby('Grouped').sum()"
   ]
  },
  {
   "cell_type": "code",
   "execution_count": 31,
   "metadata": {},
   "outputs": [
    {
     "name": "stdout",
     "output_type": "stream",
     "text": [
      "                                                  Quantity Ordered  \\\n",
      "Grouped                                                              \n",
      "20in Monitor,20in Monitor                                      6.0   \n",
      "20in Monitor,27in FHD Monitor                                  4.0   \n",
      "20in Monitor,34in Ultrawide Monitor                            2.0   \n",
      "20in Monitor,AA Batteries (4-pack)                            14.0   \n",
      "20in Monitor,AAA Batteries (4-pack)                            7.0   \n",
      "...                                                            ...   \n",
      "iPhone,USB-C Charging Cable                                   25.0   \n",
      "iPhone,Vareebadd Phone                                         6.0   \n",
      "iPhone,Wired Headphones                                      752.0   \n",
      "iPhone,Wired Headphones,Lightning Charging Cable               3.0   \n",
      "iPhone,iPhone                                                  2.0   \n",
      "\n",
      "                                                  Price Each  Month  \\\n",
      "Grouped                                                               \n",
      "20in Monitor,20in Monitor                             659.94     34   \n",
      "20in Monitor,27in FHD Monitor                         519.96     42   \n",
      "20in Monitor,34in Ultrawide Monitor                   489.98     14   \n",
      "20in Monitor,AA Batteries (4-pack)                    682.98     78   \n",
      "20in Monitor,AAA Batteries (4-pack)                   338.94     54   \n",
      "...                                                      ...    ...   \n",
      "iPhone,USB-C Charging Cable                          8543.40    132   \n",
      "iPhone,Vareebadd Phone                               3300.00     26   \n",
      "iPhone,Wired Headphones                            257028.39   4930   \n",
      "iPhone,Wired Headphones,Lightning Charging Cable      726.94     15   \n",
      "iPhone,iPhone                                        1400.00     12   \n",
      "\n",
      "                                                      sales   Hour  Minute  \n",
      "Grouped                                                                     \n",
      "20in Monitor,20in Monitor                            659.94     70     312  \n",
      "20in Monitor,27in FHD Monitor                        519.96     48      24  \n",
      "20in Monitor,34in Ultrawide Monitor                  489.98     44      36  \n",
      "20in Monitor,AA Batteries (4-pack)                   796.81    214     362  \n",
      "20in Monitor,AAA Batteries (4-pack)                  341.93     76     206  \n",
      "...                                                     ...    ...     ...  \n",
      "iPhone,USB-C Charging Cable                         8555.35    326     608  \n",
      "iPhone,Vareebadd Phone                              3300.00     80     146  \n",
      "iPhone,Wired Headphones                           257388.09  10262   20940  \n",
      "iPhone,Wired Headphones,Lightning Charging Cable     726.94     66      45  \n",
      "iPhone,iPhone                                       1400.00     46      82  \n",
      "\n",
      "[366 rows x 6 columns]\n"
     ]
    }
   ],
   "source": [
    "print(temp4)\n"
   ]
  },
  {
   "cell_type": "code",
   "execution_count": 32,
   "metadata": {},
   "outputs": [],
   "source": [
    "temp4=temp4.sort_values(by='Quantity Ordered', ascending=False)"
   ]
  },
  {
   "cell_type": "code",
   "execution_count": 33,
   "metadata": {},
   "outputs": [],
   "source": [
    "temp5=temp4.head(10)"
   ]
  },
  {
   "cell_type": "code",
   "execution_count": 34,
   "metadata": {},
   "outputs": [
    {
     "name": "stdout",
     "output_type": "stream",
     "text": [
      "                                                    Quantity Ordered  \\\n",
      "Grouped                                                                \n",
      "iPhone,Lightning Charging Cable                               1822.0   \n",
      "Google Phone,USB-C Charging Cable                             1785.0   \n",
      "iPhone,Wired Headphones                                        752.0   \n",
      "Vareebadd Phone,USB-C Charging Cable                           648.0   \n",
      "Google Phone,Wired Headphones                                  637.0   \n",
      "iPhone,Apple Airpods Headphones                                573.0   \n",
      "Google Phone,Bose SoundSport Headphones                        323.0   \n",
      "Google Phone,USB-C Charging Cable,Wired Headphones             239.0   \n",
      "Vareebadd Phone,Wired Headphones                               217.0   \n",
      "iPhone,Lightning Charging Cable,Wired Headphones               180.0   \n",
      "\n",
      "                                                    Price Each  Month  \\\n",
      "Grouped                                                                 \n",
      "iPhone,Lightning Charging Cable                      630585.90  11958   \n",
      "Google Phone,USB-C Charging Cable                    523829.20  11684   \n",
      "iPhone,Wired Headphones                              257028.39   4930   \n",
      "Vareebadd Phone,USB-C Charging Cable                 128528.40   4488   \n",
      "Google Phone,Wired Headphones                        185432.97   4258   \n",
      "iPhone,Apple Airpods Headphones                      243100.00   4102   \n",
      "Google Phone,Bose SoundSport Headphones              112698.39   2282   \n",
      "Google Phone,USB-C Charging Cable,Wired Headphones    48043.38   1584   \n",
      "Vareebadd Phone,Wired Headphones                      42846.96   1404   \n",
      "iPhone,Lightning Charging Cable,Wired Headphones      40708.64   1245   \n",
      "\n",
      "                                                        sales   Hour  Minute  \n",
      "Grouped                                                                       \n",
      "iPhone,Lightning Charging Cable                     631453.00  26110   53034  \n",
      "Google Phone,USB-C Charging Cable                   524701.55  24798   50354  \n",
      "iPhone,Wired Headphones                             257388.09  10262   20940  \n",
      "Vareebadd Phone,USB-C Charging Cable                128815.20   8934   17944  \n",
      "Google Phone,Wired Headphones                       185804.66   8620   17876  \n",
      "iPhone,Apple Airpods Headphones                     243250.00   8166   16690  \n",
      "Google Phone,Bose SoundSport Headphones             113298.39   4822    9270  \n",
      "Google Phone,USB-C Charging Cable,Wired Headphones   48139.14   3027    7110  \n",
      "Vareebadd Phone,Wired Headphones                     42954.87   2926    6488  \n",
      "iPhone,Lightning Charging Cable,Wired Headphones     40867.32   2481    4884  \n"
     ]
    }
   ],
   "source": [
    "print(temp5)"
   ]
  },
  {
   "cell_type": "code",
   "execution_count": 35,
   "metadata": {},
   "outputs": [
    {
     "data": {
      "image/png": "[encoded data removed]",
      "text/plain": [
       "<Figure size 432x288 with 1 Axes>"
      ]
     },
     "metadata": {
      "needs_background": "light"
     },
     "output_type": "display_data"
    }
   ],
   "source": [
    "group=[group for group,df in temp5.groupby(['Grouped'],sort=False)]  \n",
    "\n",
    "plt.bar(group,temp5['Quantity Ordered'])\n",
    "plt.xticks(rotation='vertical')\n",
    "plt.show()\n"
   ]
  },
  {
   "cell_type": "code",
   "execution_count": null,
   "metadata": {},
   "outputs": [],
   "source": []
  }
 ],
 "metadata": {
  "kernelspec": {
   "display_name": "Python 3",
   "language": "python",
   "name": "python3"
  },
  "language_info": {
   "codemirror_mode": {
    "name": "ipython",
    "version": 3
   },
   "file_extension": ".py",
   "mimetype": "text/x-python",
   "name": "python",
   "nbconvert_exporter": "python",
   "pygments_lexer": "ipython3",
   "version": "3.7.4"
  }
 },
 "nbformat": 4,
 "nbformat_minor": 2
}
